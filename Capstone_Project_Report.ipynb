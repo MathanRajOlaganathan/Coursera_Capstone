{
 "cells": [
  {
   "cell_type": "markdown",
   "metadata": {
    "colab_type": "text",
    "id": "uRZtANnbGH-k"
   },
   "source": [
    "#  <h1><center> **EXPLORING VENUES IN BANGALORE** </center><h1>\n",
    "<center>Mathan Raj O</center>\n",
    "<center>07/04/2020</center>\n"
   ]
  },
  {
   "cell_type": "markdown",
   "metadata": {
    "colab_type": "text",
    "id": "t--eRty3HC8-"
   },
   "source": [
    "**Table of Contents**\n",
    "\n",
    "\n",
    "1.  [Introduction](#introduction)\n",
    "2.   [Data](#data)\n",
    "\n"
   ]
  },
  {
   "cell_type": "markdown",
   "metadata": {
    "colab_type": "text",
    "id": "y6TXRW8-Hhd6"
   },
   "source": [
    "## 1. Introduction <a name=\"introduction\"></a>\n",
    "  As part of the Coursera Capstone Project (https://www.coursera.org/learn/applied-data-science-capstone/home/week/4), I have come with the problem of exploring different venues in Bangalore, India.\n",
    "\n",
    "### 1.1 Business Problem\n",
    "\n",
    "In a busy city like Bangalore, finding the right venue for our needs is a hectic task. Be it restaurants, bars, cafes, etc there are so many options for us to choose from and especially for tourists, it's even more time-consuming.\n",
    "Bangalore covers an area of 741 square KM with 55 neighborhoods. The objective of this project is to explore different venues in the city, gather ratings and come up with useful metrics like the top venues based on their ratings, the map showing venues in a different color based on their similarity, etc. Adding to it, the clustering of venues will be done to show the areas for new investment. With this information, people can plan for trips and select the right place with ease.\n",
    "\n",
    "\n",
    "### 1.2 Approach\n",
    "\n",
    "I will be using Foursquare data to nearby venues for 55 Neighborhoods and Zomato API to get ratings, price, etc information for all the venues. And kmeans to cluster the similar venues.\n",
    "\n",
    "### 1.3 Target Audience\n",
    "This project will help the following users,\n",
    "        \n",
    "   - Anyone who wants to visit Bangalore can use the project analysis report, maps to plan the venues that match their expectation. \n",
    "   - Anyone who wants to start a new restaurant/cafe can lookup the cluster maps and the report to select the best place for their investment.\n",
    "   - And the future city projects can be planned according to the existing venues by making use of the venue's maps and plots. \n",
    "\n",
    "\n",
    "\n",
    "    \n"
   ]
  },
  {
   "cell_type": "markdown",
   "metadata": {
    "colab": {},
    "colab_type": "code",
    "id": "nJO6PBxlHAlV"
   },
   "source": [
    "## 2. Data <a name=\"data\"></a>\n",
    "\n",
    "The data for this project has been gathered from the Wiki Page, Foursquare API, and Zomato API.\n",
    "\n",
    "###### Wikipedia Page \n",
    "List of Neighborhoods - https://en.wikipedia.org/wiki/List_of_neighbourhoods_in_Bangalore\n",
    "I will be using the above Wikipedia URL to collect the list of neighborhoods in Bangalore. Then using the geocode library, I gathered longitude and latitude for all the neighborhoods.\n",
    "   \n",
    "###### FourSquare API\n",
    "\n",
    "I will be using __FourSquare API__ to get a maximum of 30 venues around 500 meters of __55__ Neighborhoods. Using the foursquare explore API, I will be fetching,\n",
    "        1.Venue Name\n",
    "        2.Venue Latitude\n",
    "        3.Venue Longitude\n",
    "        4.Venue Category\n",
    "        \n",
    "'https://api.foursquare.com/v2/venues/explore?&client_id={}&client_secret={}&v={}&ll={},{}&radius={}&limit={}'.format(\n",
    "            CLIENT_ID, \n",
    "            CLIENT_SECRET, \n",
    "            VERSION, \n",
    "            lat, \n",
    "            lng, \n",
    "            radius, \n",
    "            LIMIT)\n",
    "            \n",
    "###### Zomato API\n",
    "\n",
    "I will be using __Zomato API__ to get ratings, price_range, address, etc for the venues gathered using FourSquare API.\n",
    "\n",
    "('https://developers.zomato.com/api/v2.1/search?q={}' + \n",
    "          '&start=0&count=1&lat={}&lon={}&sort=real_distance').format(bangalore_venues['Venue'][i], bangalore_venues['Venue_Latitude'][i], bangalore_venues['Venue_Longitude'][i])"
   ]
  },
  {
   "cell_type": "code",
   "execution_count": null,
   "metadata": {},
   "outputs": [],
   "source": []
  }
 ],
 "metadata": {
  "colab": {
   "collapsed_sections": [],
   "name": "Capstone Project Report.ipynb",
   "provenance": []
  },
  "kernelspec": {
   "display_name": "Python 3",
   "language": "python",
   "name": "python3"
  },
  "language_info": {
   "codemirror_mode": {
    "name": "ipython",
    "version": 3
   },
   "file_extension": ".py",
   "mimetype": "text/x-python",
   "name": "python",
   "nbconvert_exporter": "python",
   "pygments_lexer": "ipython3",
   "version": "3.7.6"
  }
 },
 "nbformat": 4,
 "nbformat_minor": 1
}
